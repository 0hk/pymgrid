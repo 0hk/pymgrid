{
 "cells": [
  {
   "cell_type": "code",
   "execution_count": 9,
   "metadata": {},
   "outputs": [],
   "source": [
    "import sys\n",
    "sys.path.append('/Users/ahalev/Dropbox/Avishai/gradSchool/internships/totalInternship/pymgrid_git')\n",
    "path = sys.path[len(sys.path)-1]\n",
    "import pymgrid.MicrogridGenerator as mg\n",
    "import utils.DataGenerator as dg\n",
    "import algos.Control as control\n",
    "import pickle\n",
    "import importlib\n",
    "\n",
    "def reload():\n",
    "    importlib.reload(dg)\n",
    "    importlib.reload(mg)\n",
    "    importlib.reload(control)\n",
    "reload()  "
   ]
  },
  {
   "cell_type": "code",
   "execution_count": 5,
   "metadata": {},
   "outputs": [],
   "source": [
    "path = sys.path[len(sys.path)-1]\n",
    "env = mg.MicrogridGenerator(path = path,nb_microgrid=2)\n",
    "env = env.load('pymgrid25')"
   ]
  },
  {
   "cell_type": "code",
   "execution_count": null,
   "metadata": {},
   "outputs": [
    {
     "name": "stdout",
     "output_type": "stream",
     "text": [
      "0.0 %\n",
      "Using preset forecast arguments\n"
     ]
    },
    {
     "name": "stderr",
     "output_type": "stream",
     "text": [
      "/Users/ahalev/Dropbox/Avishai/gradSchool/internships/totalInternship/pymgrid_git/algos/Control.py:191: RuntimeWarning:\n",
      "\n",
      "invalid value encountered in true_divide\n",
      "\n"
     ]
    },
    {
     "name": "stdout",
     "output_type": "stream",
     "text": [
      "Creating sample 0\n",
      "Creating sample 1\n",
      "Creating sample 2\n",
      "Creating sample 3\n",
      "Creating sample 4\n",
      "Creating sample 5\n",
      "Creating sample 6\n",
      "Creating sample 7\n",
      "Creating sample 8\n",
      "Creating sample 9\n"
     ]
    }
   ],
   "source": [
    "comparison_list = []\n",
    "forecast_accuracies = [50, 70, 85]\n",
    "percentiles = [0.25, 0.5, 0.75]\n",
    "\n",
    "sampling_args = dict()\n",
    "sampling_args['push_individual_vals'] = True # For pv data\n",
    "sampling_args['push_individual_ratio'] = 0.5 # For pv data\n",
    "\n",
    "total_iter = len(env.microgrids)*len(forecast_accuracies)*len(percentiles)\n",
    "\n",
    "\n",
    "for j, microgrid in enumerate(env.microgrids):\n",
    "    for k, accuracy in enumerate(forecast_accuracies):\n",
    "        for l, percentile in enumerate(percentiles):\n",
    "            \n",
    "            m = (j*len(forecast_accuracies)+k)*len(percentiles)+l\n",
    "            print(round(100*m/total_iter,2),'%')\n",
    "        \n",
    "            SAA = control.SampleAverageApproximation(microgrid, preset_to_use=accuracy)\n",
    "            mape = SAA.validate_forecasts(forecasts = SAA.forecasts, aggregate = True)\n",
    "            \n",
    "            mpc_output = SAA.run_deterministic_on_forecast()\n",
    "            saa_output = SAA.run(optimal_percentile = percentile, use_previous_samples=False, **sampling_args)\n",
    "            \n",
    "            d = dict(microgrid=microgrid, percentile=percentile, accuracy=accuracy, mpc_output=mpc_output, saa_output = saa_output)\n",
    "            comparison_list.append(d)\n"
   ]
  },
  {
   "cell_type": "code",
   "execution_count": null,
   "metadata": {},
   "outputs": [],
   "source": [
    "filename = 'comparison_algos'\n",
    "outfile = open(filename,'wb')\n",
    "pickle.dump(comparison_list,outfile)\n",
    "outfile.close()"
   ]
  },
  {
   "cell_type": "code",
   "execution_count": null,
   "metadata": {},
   "outputs": [],
   "source": []
  }
 ],
 "metadata": {
  "kernelspec": {
   "display_name": "Python 3",
   "language": "python",
   "name": "python3"
  },
  "language_info": {
   "codemirror_mode": {
    "name": "ipython",
    "version": 3
   },
   "file_extension": ".py",
   "mimetype": "text/x-python",
   "name": "python",
   "nbconvert_exporter": "python",
   "pygments_lexer": "ipython3",
   "version": "3.8.3"
  }
 },
 "nbformat": 4,
 "nbformat_minor": 4
}
