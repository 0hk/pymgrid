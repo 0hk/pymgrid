{
 "cells": [
  {
   "cell_type": "code",
   "execution_count": 1,
   "metadata": {},
   "outputs": [],
   "source": [
    "import sys\n",
    "sys.path.append('C:/Users/Tanguy LEVENT/Documents/Ploutos/Projet_Ploutos/ploutos/')\n",
    "from ploutos import MicrogridGenerator as mg"
   ]
  },
  {
   "cell_type": "code",
   "execution_count": 2,
   "metadata": {},
   "outputs": [
    {
     "name": "stdout",
     "output_type": "stream",
     "text": [
      "      load  cost_loss_load  PV_rated_power  battery_soc_0  \\\n",
      "0  7426634           10000      6683970.60            0.2   \n",
      "0  8080212           10000      4282512.36            0.2   \n",
      "\n",
      "   battery_power_charge  battery_power_discharge  battery_capacity  \\\n",
      "0                 636.0                    636.0            2544.0   \n",
      "0                 692.0                    692.0            2768.0   \n",
      "\n",
      "   battery_efficiency  battery_soc_min  battery_soc_max  ...  \\\n",
      "0                 0.9              0.2                1  ...   \n",
      "0                 0.9              0.2                1  ...   \n",
      "\n",
      "   grid_price_import  grid_price_export  genset_polynom_order  \\\n",
      "0                0.3                0.0                   NaN   \n",
      "0                NaN                NaN                   3.0   \n",
      "\n",
      "   genset_polynom_0  genset_polynom_1  genset_polynom_2  genset_rated_power  \\\n",
      "0               NaN               NaN               NaN                 NaN   \n",
      "0          0.205845           0.96991          0.083244              2091.0   \n",
      "\n",
      "   genset_pmin  genset_pmax  fuel_cost  \n",
      "0          NaN          NaN        NaN  \n",
      "0          0.2          0.9        0.4  \n",
      "\n",
      "[2 rows x 23 columns]\n"
     ]
    }
   ],
   "source": [
    "path = sys.path[len(sys.path)-1]\n",
    "env = mg.MicrogridGenerator(path =path,nb_microgrid=2)\n",
    "env.generate_microgrid()"
   ]
  },
  {
   "cell_type": "code",
   "execution_count": 3,
   "metadata": {
    "scrolled": true
   },
   "outputs": [
    {
     "name": "stdout",
     "output_type": "stream",
     "text": [
      "Microgrid 0 architecture: {'PV': 1, 'battery': 1, 'genset': 0, 'grid': 1}\n",
      "Microgrid 1 architecture: {'PV': 1, 'battery': 1, 'genset': 1, 'grid': 0}\n"
     ]
    }
   ],
   "source": [
    "for i in range(env.nb_microgrids):\n",
    "    \n",
    "    print(\"Microgrid {} architecture: {}\".format(int(i), str(env.microgrids[i].architecture)))"
   ]
  },
  {
   "cell_type": "code",
   "execution_count": 9,
   "metadata": {},
   "outputs": [
    {
     "data": {
      "text/plain": [
       "pandas.core.frame.DataFrame"
      ]
     },
     "execution_count": 9,
     "metadata": {},
     "output_type": "execute_result"
    }
   ],
   "source": [
    "type(env.microgrids[0].load)\n"
   ]
  },
  {
   "cell_type": "code",
   "execution_count": null,
   "metadata": {},
   "outputs": [],
   "source": []
  },
  {
   "cell_type": "code",
   "execution_count": null,
   "metadata": {},
   "outputs": [],
   "source": [
    "print(env.microgrids[0].df)"
   ]
  },
  {
   "cell_type": "code",
   "execution_count": null,
   "metadata": {},
   "outputs": [],
   "source": [
    "env.microgrids[0].baseline_rule_based()"
   ]
  },
  {
   "cell_type": "code",
   "execution_count": null,
   "metadata": {},
   "outputs": [],
   "source": [
    "print(env.microgrids[0].architecture)\n",
    "env.microgrids[0].parameters\n"
   ]
  },
  {
   "cell_type": "code",
   "execution_count": null,
   "metadata": {},
   "outputs": [],
   "source": [
    "env.microgrids[0].df_status"
   ]
  },
  {
   "cell_type": "code",
   "execution_count": null,
   "metadata": {},
   "outputs": [],
   "source": [
    "battery_initial = env.microgrids[0].df_status.values[0][1]\n",
    "    \n",
    "\n",
    "for i in range(1000):\n",
    "    state = env.microgrids[0].df_status.iloc[-1]\n",
    "    load = env.microgrids[0].load.iloc[i].values[0]\n",
    "    pv = env.microgrids[0].pv.iloc[i].values[0]\n",
    "    net_demand = pv - load\n",
    "    control_dict = {'battery_charge': 0,\n",
    "                            'battery_discharge': 0,\n",
    "                            'genset': max(0, load-pv),\n",
    "                            'grid_import': 0,\n",
    "                            'grid_export':0,\n",
    "                            'load_not_matched': 0,\n",
    "                            'pv_consummed': min(pv, load),\n",
    "                            'pv_curtailed':min(load-pv, 0)}\n",
    "    \n",
    "    \n",
    "    mg_data = env.microgrids[0].run(control_dict, i)\n",
    "    env.microgrids[0].df_status[\"battery_soc\"].iloc[-1]"
   ]
  },
  {
   "cell_type": "code",
   "execution_count": null,
   "metadata": {},
   "outputs": [],
   "source": [
    "env.microgrids[0].load.iloc[0].values[0]"
   ]
  },
  {
   "cell_type": "code",
   "execution_count": null,
   "metadata": {},
   "outputs": [],
   "source": [
    "env.microgrids[0].df_actions.iloc[500:600,:].plot()"
   ]
  },
  {
   "cell_type": "code",
   "execution_count": null,
   "metadata": {},
   "outputs": [],
   "source": [
    "env.microgrids[0].df_status[\"battery_soc\"].iloc[-1]"
   ]
  },
  {
   "cell_type": "code",
   "execution_count": null,
   "metadata": {},
   "outputs": [],
   "source": [
    "load = env.microgrids[0].load.iloc[0].values[0]\n",
    "pv = env.microgrids[0].pv.iloc[0].values[0]\n",
    "control_dict = {'battery_charge': 0,\n",
    "                            'battery_discharge': max(0, min(capa_to_discharge, parameters['battery_power_discharge'].values[0],\n",
    "                                                load-pv)),\n",
    "                            'genset': max(0, load-pv-max(0, min(capa_to_discharge, parameters['battery_power_discharge'].values[0],\n",
    "                                                load-pv))),\n",
    "                            'grid_import': 0,\n",
    "                            'grid_export':0,\n",
    "                            'load_not_matched': 0,\n",
    "                            'pv_consummed': min(pv, load),\n",
    "                            'pv_curtailed':min(load-pv, 0)}"
   ]
  },
  {
   "cell_type": "code",
   "execution_count": null,
   "metadata": {},
   "outputs": [],
   "source": [
    " mg_data = env.microgrids[0].run(control_dict, 1)"
   ]
  },
  {
   "cell_type": "code",
   "execution_count": null,
   "metadata": {
    "scrolled": true
   },
   "outputs": [],
   "source": [
    "env.microgrids[0].load\n"
   ]
  },
  {
   "cell_type": "code",
   "execution_count": null,
   "metadata": {},
   "outputs": [],
   "source": [
    "def split_training_testing(self, proportion, entire_data):\n",
    "    multiplicateur = 24\n",
    "    training_size_prop = round((entire_data.shape[0]/multiplicateur)*proportion) #24 car je le mets en semaine \n",
    "    dt_training = entire_data[0:training_size_prop*multiplicateur].Load #si on le fait sur les loads\n",
    "    dt_testing = entire_data[training_size_prop*multiplicateur:].Load #si on le fait sur les loads\n",
    "    \n",
    "    return dt_training, dt_testing"
   ]
  }
 ],
 "metadata": {
  "kernelspec": {
   "display_name": "Python 3",
   "language": "python",
   "name": "python3"
  },
  "language_info": {
   "codemirror_mode": {
    "name": "ipython",
    "version": 3
   },
   "file_extension": ".py",
   "mimetype": "text/x-python",
   "name": "python",
   "nbconvert_exporter": "python",
   "pygments_lexer": "ipython3",
   "version": "3.7.6"
  }
 },
 "nbformat": 4,
 "nbformat_minor": 4
}
