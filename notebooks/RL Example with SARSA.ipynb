{
 "cells": [
  {
   "cell_type": "markdown",
   "metadata": {},
   "source": [
    "# A SARSA algorithm for PymGrid"
   ]
  },
  {
   "cell_type": "markdown",
   "metadata": {},
   "source": [
    "Don't forget to add your own path in sys"
   ]
  },
  {
   "cell_type": "code",
   "execution_count": 1,
   "metadata": {},
   "outputs": [],
   "source": [
    "import sys\n",
    "sys.path.append('C:/Users/Tanguy LEVENT/Documents/Ploutos/Projet_Ploutos/pymgrid/')\n",
    "from pymgrid import MicrogridGenerator as mg\n",
    "import matplotlib.pyplot as plt\n",
    "import numpy as np\n",
    "import os"
   ]
  },
  {
   "cell_type": "markdown",
   "metadata": {},
   "source": [
    "### Generate One Microgrid"
   ]
  },
  {
   "cell_type": "code",
   "execution_count": 2,
   "metadata": {
    "scrolled": true
   },
   "outputs": [
    {
     "data": {
      "text/html": [
       "<div>\n",
       "<style scoped>\n",
       "    .dataframe tbody tr th:only-of-type {\n",
       "        vertical-align: middle;\n",
       "    }\n",
       "\n",
       "    .dataframe tbody tr th {\n",
       "        vertical-align: top;\n",
       "    }\n",
       "\n",
       "    .dataframe thead th {\n",
       "        text-align: right;\n",
       "    }\n",
       "</style>\n",
       "<table border=\"1\" class=\"dataframe\">\n",
       "  <thead>\n",
       "    <tr style=\"text-align: right;\">\n",
       "      <th></th>\n",
       "      <th>load</th>\n",
       "      <th>cost_loss_load</th>\n",
       "      <th>PV_rated_power</th>\n",
       "      <th>battery_soc_0</th>\n",
       "      <th>battery_power_charge</th>\n",
       "      <th>battery_power_discharge</th>\n",
       "      <th>battery_capacity</th>\n",
       "      <th>battery_efficiency</th>\n",
       "      <th>battery_soc_min</th>\n",
       "      <th>battery_soc_max</th>\n",
       "      <th>battery_cost_cycle</th>\n",
       "      <th>grid_power_import</th>\n",
       "      <th>grid_power_export</th>\n",
       "      <th>grid_price_import</th>\n",
       "      <th>grid_price_export</th>\n",
       "    </tr>\n",
       "  </thead>\n",
       "  <tbody>\n",
       "    <tr>\n",
       "      <th>0</th>\n",
       "      <td>7299388</td>\n",
       "      <td>10000</td>\n",
       "      <td>7372381.9</td>\n",
       "      <td>0.2</td>\n",
       "      <td>625</td>\n",
       "      <td>625</td>\n",
       "      <td>2500</td>\n",
       "      <td>0.9</td>\n",
       "      <td>0.2</td>\n",
       "      <td>1</td>\n",
       "      <td>0.3</td>\n",
       "      <td>2836</td>\n",
       "      <td>2836</td>\n",
       "      <td>0.3</td>\n",
       "      <td>0</td>\n",
       "    </tr>\n",
       "  </tbody>\n",
       "</table>\n",
       "</div>"
      ],
      "text/plain": [
       "      load  cost_loss_load  PV_rated_power  battery_soc_0  \\\n",
       "0  7299388           10000       7372381.9            0.2   \n",
       "\n",
       "   battery_power_charge  battery_power_discharge  battery_capacity  \\\n",
       "0                   625                      625              2500   \n",
       "\n",
       "   battery_efficiency  battery_soc_min  battery_soc_max  battery_cost_cycle  \\\n",
       "0                 0.9              0.2                1                 0.3   \n",
       "\n",
       "   grid_power_import  grid_power_export  grid_price_import  grid_price_export  \n",
       "0               2836               2836                0.3                  0  "
      ]
     },
     "metadata": {},
     "output_type": "display_data"
    }
   ],
   "source": [
    "path = sys.path[len(sys.path)-1]\n",
    "env = mg.MicrogridGenerator(path =path,nb_microgrid=1)\n",
    "env.generate_microgrid(verbose = True)"
   ]
  },
  {
   "cell_type": "markdown",
   "metadata": {},
   "source": [
    "Now I print the architecture of the random generated microgrid. I understand that I have an on-grid microgrid with battery"
   ]
  },
  {
   "cell_type": "code",
   "execution_count": 3,
   "metadata": {
    "scrolled": true
   },
   "outputs": [
    {
     "name": "stdout",
     "output_type": "stream",
     "text": [
      "Microgrid 0 architecture: {'PV': 1, 'battery': 1, 'genset': 0, 'grid': 1}\n"
     ]
    }
   ],
   "source": [
    "for i in range(env.nb_microgrids):\n",
    "    \n",
    "    print(\"Microgrid {} architecture: {}\".format(int(i), str(env.microgrids[i].architecture)))"
   ]
  },
  {
   "cell_type": "markdown",
   "metadata": {},
   "source": [
    "For sake of confort I decide to rename my microgrid\n"
   ]
  },
  {
   "cell_type": "code",
   "execution_count": 4,
   "metadata": {},
   "outputs": [],
   "source": [
    "mg0 = env.microgrids[0]"
   ]
  },
  {
   "cell_type": "code",
   "execution_count": 5,
   "metadata": {},
   "outputs": [
    {
     "name": "stdout",
     "output_type": "stream",
     "text": [
      "In Progress 100% \n",
      "Rules Based Calculation Finished"
     ]
    }
   ],
   "source": [
    "mg0.compute_benchmark('rule_based')"
   ]
  },
  {
   "cell_type": "markdown",
   "metadata": {},
   "source": [
    "I decide to plot my grid status in order to see if sometime the grid can be disconnected to the grid. Here we observe that the microgrid is always connected to the utility grid"
   ]
  },
  {
   "cell_type": "code",
   "execution_count": null,
   "metadata": {},
   "outputs": [],
   "source": [
    "plt.plot(mg0.forecast_grid_status())"
   ]
  },
  {
   "cell_type": "code",
   "execution_count": null,
   "metadata": {},
   "outputs": [],
   "source": [
    "type(mg0.forecast_grid_status())"
   ]
  },
  {
   "cell_type": "markdown",
   "metadata": {},
   "source": [
    "Now I decide to call print_info() method to print all the informations at once "
   ]
  },
  {
   "cell_type": "code",
   "execution_count": null,
   "metadata": {},
   "outputs": [],
   "source": [
    "mg0.print_info()"
   ]
  },
  {
   "cell_type": "code",
   "execution_count": null,
   "metadata": {},
   "outputs": [],
   "source": [
    "print(\"Penetration PV :\", round(mg0.parameters[\"PV_rated_power\"][0]/mg0.parameters[\"load\"][0]*100,2), \"%\")"
   ]
  },
  {
   "cell_type": "markdown",
   "metadata": {},
   "source": [
    "What action can I take? "
   ]
  },
  {
   "cell_type": "code",
   "execution_count": null,
   "metadata": {},
   "outputs": [],
   "source": [
    "print(mg0.control_dict)"
   ]
  },
  {
   "cell_type": "markdown",
   "metadata": {},
   "source": [
    "What are my state variables? To our case we want to choose the current net_laod (load-pv) and the current battery capacity"
   ]
  },
  {
   "cell_type": "code",
   "execution_count": null,
   "metadata": {},
   "outputs": [],
   "source": [
    "net_load = mg0.load-mg0.pv\n",
    "print(\"My current net_load is equal to {:0.4} kWh and my current battery capacity is {}\".format(net_load, mg0.battery.capacity))\n"
   ]
  },
  {
   "cell_type": "markdown",
   "metadata": {},
   "source": [
    "Plot PV and Load for the next 24 hours"
   ]
  },
  {
   "cell_type": "code",
   "execution_count": null,
   "metadata": {},
   "outputs": [],
   "source": [
    "plt.plot(mg0.forecast_pv())\n",
    "plt.plot(mg0.forecast_load())\n"
   ]
  },
  {
   "cell_type": "markdown",
   "metadata": {},
   "source": [
    "Plot for 4 days. I need to change the horizon time. Don't forget to get it back at the right value afterward"
   ]
  },
  {
   "cell_type": "code",
   "execution_count": null,
   "metadata": {},
   "outputs": [],
   "source": [
    "mg0.set_horizon(24*4)\n",
    "plt.plot(mg0.forecast_pv())\n",
    "plt.plot(mg0.forecast_load())"
   ]
  },
  {
   "cell_type": "markdown",
   "metadata": {},
   "source": [
    "What is my net_load over 4 days?"
   ]
  },
  {
   "cell_type": "code",
   "execution_count": null,
   "metadata": {},
   "outputs": [],
   "source": [
    "plt.plot(mg0.forecast_load()-mg0.forecast_pv())"
   ]
  },
  {
   "cell_type": "markdown",
   "metadata": {},
   "source": [
    "I get back my horizon at 24 steps/hours"
   ]
  },
  {
   "cell_type": "code",
   "execution_count": null,
   "metadata": {},
   "outputs": [],
   "source": [
    "mg0.set_horizon(24)"
   ]
  },
  {
   "cell_type": "markdown",
   "metadata": {},
   "source": [
    "### Design of the agent"
   ]
  },
  {
   "cell_type": "markdown",
   "metadata": {},
   "source": [
    "First we need to define the different actions our agent will have to take in the microgrid environment. As a result we create a function actions_agent(). The run() fonction is similar to step() of OpenAI Gym, nevertheless run() take a dictionnary as an input. So we need to return a dictionary of actions related to control_dict. So sake of simplicity we consider that the agent can take only one of the 4 actions defined at the full rate of the net_load."
   ]
  },
  {
   "cell_type": "code",
   "execution_count": null,
   "metadata": {},
   "outputs": [],
   "source": [
    "mg0.get_control_dict()"
   ]
  },
  {
   "cell_type": "markdown",
   "metadata": {},
   "source": [
    "First we need to define the different actions our agent will take. Let's set a new fonction call action_agent(). Don't forget to return a dictionnary for the run function"
   ]
  },
  {
   "cell_type": "code",
   "execution_count": null,
   "metadata": {},
   "outputs": [],
   "source": [
    "def actions_agent(load, net_load, action):\n",
    "    \n",
    "    #action 0: battery_charge\n",
    "    #action 1: battery_discharge\n",
    "    #action 2: grid_import\n",
    "    #action 3: grid_export\n",
    "          \n",
    "    # we consider that the pv is fully absorbed by the loads. We want to manage the excess or deficit of pv \n",
    "    # with the battery and grid\n",
    "\n",
    "    if action == 0:\n",
    "        control_dict = {'pv': load,\n",
    "                        'battery_charge': abs(net_load),\n",
    "                        'battery_discharge': 0,\n",
    "                        'grid_import': 0,\n",
    "                        'grid_export':0\n",
    "                       }\n",
    "    \n",
    "    elif action ==1:\n",
    "        \n",
    "        control_dict = {'pv': load,\n",
    "                        'battery_charge': 0,\n",
    "                        'battery_discharge': abs(net_load),\n",
    "                        'grid_import': 0,\n",
    "                        'grid_export':0\n",
    "                       }\n",
    "        \n",
    "    elif action ==2:\n",
    "        \n",
    "        control_dict = {'pv': load,\n",
    "                        'battery_charge': 0,\n",
    "                        'battery_discharge': 0,\n",
    "                        'grid_import': abs(net_load),\n",
    "                        'grid_export':0\n",
    "                       }\n",
    "        \n",
    "    elif action == 3:\n",
    "        \n",
    "        control_dict = {'pv': load,\n",
    "                        'battery_charge': 0,\n",
    "                        'battery_discharge': 0,\n",
    "                        'grid_import': 0,\n",
    "                        'grid_export':abs(net_load)\n",
    "                       }\n",
    "    \n",
    "    return control_dict"
   ]
  },
  {
   "cell_type": "markdown",
   "metadata": {},
   "source": [
    "Now I create functions for the SARSA agent.\n",
    "The first one is to initialize my Q table. I need to round the state to reduce the state space."
   ]
  },
  {
   "cell_type": "code",
   "execution_count": null,
   "metadata": {},
   "outputs": [],
   "source": [
    "def init_qtable(mg0, nb_action):\n",
    "    \n",
    "    net_load = mg0.forecast_load() - mg0.forecast_pv()\n",
    "    state = []\n",
    "    Q = {}\n",
    "\n",
    "    for i in range(int(net_load.min()-1),int(net_load.max()+1)):\n",
    "        \n",
    "        for j in np.arange(round(mg0.battery.soc_min,1),round(mg0.battery.soc_max+0.1,1),0.1):\n",
    "            \n",
    "            j = round(j,1)\n",
    "            state.append((i,j)) \n",
    "\n",
    "    #Initialize Q(s,a) at zero\n",
    "    for s in state:\n",
    "\n",
    "        Q[s] = {}\n",
    "\n",
    "        for a in range(nb_action):\n",
    "\n",
    "            Q[s][a] = 0\n",
    "\n",
    "    return Q"
   ]
  },
  {
   "cell_type": "markdown",
   "metadata": {},
   "source": [
    "I define a function for my exploration strategy. Here I've selected the epsilon greedy decreasing strategy"
   ]
  },
  {
   "cell_type": "code",
   "execution_count": null,
   "metadata": {},
   "outputs": [],
   "source": [
    "def espilon_decreasing_greedy(action, epsilon, nb_action):\n",
    "    \n",
    "    p = np.random.random()\n",
    "\n",
    "    if p < (1 - epsilon):\n",
    "        \n",
    "        return action\n",
    "\n",
    "    else: \n",
    "\n",
    "        return np.random.choice(nb_action)"
   ]
  },
  {
   "cell_type": "code",
   "execution_count": null,
   "metadata": {},
   "outputs": [],
   "source": [
    "def max_dict(d):\n",
    "\n",
    "    max_key = None\n",
    "    max_val = float('-inf')\n",
    "\n",
    "\n",
    "    for k,v in d.items():\n",
    "\n",
    "        if v > max_val:\n",
    "\n",
    "            max_val = v\n",
    "            max_key = k\n",
    "\n",
    "    return max_key, max_val"
   ]
  },
  {
   "cell_type": "markdown",
   "metadata": {},
   "source": [
    "I also need to define a function to decrease and update my espilon "
   ]
  },
  {
   "cell_type": "code",
   "execution_count": null,
   "metadata": {},
   "outputs": [],
   "source": [
    "def update_epsilon(epsilon):\n",
    "    \n",
    "    epsilon = epsilon - epsilon *0.02\n",
    "    \n",
    "    if epsilon < 0.1:\n",
    "        \n",
    "        epsilon = 0.1\n",
    "    \n",
    "    return epsilon"
   ]
  },
  {
   "cell_type": "markdown",
   "metadata": {},
   "source": [
    "Now I define my agent function"
   ]
  },
  {
   "cell_type": "code",
   "execution_count": null,
   "metadata": {},
   "outputs": [],
   "source": [
    "if __name__ == '__main__':\n",
    "    \n",
    "    nb_action = 4\n",
    "    Q = init_qtable(mg0,nb_action)\n",
    "    nb_state = len(Q)\n",
    "    nb_episode = 1\n",
    "    \n",
    "    alpha = 0.5\n",
    "    epsilon = 0.99\n",
    "    gamma = 0.9\n",
    "    \n",
    "    record_cost = []\n",
    "    \n",
    "    for e in range(nb_episode+1):\n",
    "        \n",
    "        print(\"Episode {}/{}\\n\".format(e,nb_episode))\n",
    "        \n",
    "        episode_cost = 0\n",
    "        mg0.reset()\n",
    "       \n",
    "        net_load = round(mg0.load - mg0.pv)\n",
    "        soc = round(mg0.battery.soc,1)\n",
    "        s = (net_load, soc)\n",
    "        \n",
    "        a = max_dict(Q[s])[0]\n",
    "        a = espilon_decreasing_greedy(a, epsilon, nb_action)\n",
    "        a = actions_agent(mg0.load, net_load, a)\n",
    "        \n",
    "        for i in range (3):\n",
    "            \n",
    "            status = mg0.run(a)\n",
    "            print(status,'\\n')\n",
    "\n",
    "\n",
    "        "
   ]
  },
  {
   "cell_type": "code",
   "execution_count": null,
   "metadata": {},
   "outputs": [],
   "source": [
    "Q[(347,0.2)]"
   ]
  },
  {
   "cell_type": "code",
   "execution_count": null,
   "metadata": {},
   "outputs": [],
   "source": [
    "mg0.df_cost"
   ]
  },
  {
   "cell_type": "code",
   "execution_count": null,
   "metadata": {},
   "outputs": [],
   "source": [
    "mg0.reset()"
   ]
  },
  {
   "cell_type": "code",
   "execution_count": null,
   "metadata": {},
   "outputs": [],
   "source": [
    "mg0.load"
   ]
  },
  {
   "cell_type": "code",
   "execution_count": null,
   "metadata": {},
   "outputs": [],
   "source": [
    "mg0.forecast_load()"
   ]
  },
  {
   "cell_type": "code",
   "execution_count": null,
   "metadata": {},
   "outputs": [],
   "source": []
  }
 ],
 "metadata": {
  "kernelspec": {
   "display_name": "Python 3",
   "language": "python",
   "name": "python3"
  },
  "language_info": {
   "codemirror_mode": {
    "name": "ipython",
    "version": 3
   },
   "file_extension": ".py",
   "mimetype": "text/x-python",
   "name": "python",
   "nbconvert_exporter": "python",
   "pygments_lexer": "ipython3",
   "version": "3.7.6"
  }
 },
 "nbformat": 4,
 "nbformat_minor": 4
}
