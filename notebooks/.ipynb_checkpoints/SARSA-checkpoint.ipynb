{
 "cells": [
  {
   "cell_type": "code",
   "execution_count": 33,
   "metadata": {},
   "outputs": [],
   "source": [
    "import sys\n",
    "sys.path.append('C:/Users/Tanguy LEVENT/Documents/Ploutos/Projet_Ploutos/ploutos/')\n",
    "from ploutos import MicrogridGenerator as mg"
   ]
  },
  {
   "cell_type": "code",
   "execution_count": 36,
   "metadata": {},
   "outputs": [
    {
     "name": "stdout",
     "output_type": "stream",
     "text": [
      "      load  cost_loss_load  PV_rated_power  battery_soc_0  \\\n",
      "0  7426634           10000      6683970.60            0.2   \n",
      "0  8080212           10000      4282512.36            0.2   \n",
      "\n",
      "   battery_power_charge  battery_power_discharge  battery_capacity  \\\n",
      "0                 636.0                    636.0            2544.0   \n",
      "0                 692.0                    692.0            2768.0   \n",
      "\n",
      "   battery_efficiency  battery_soc_min  battery_soc_max  ...  \\\n",
      "0                 0.9              0.2                1  ...   \n",
      "0                 0.9              0.2                1  ...   \n",
      "\n",
      "   grid_price_import  grid_price_export  genset_polynom_order  \\\n",
      "0                0.3                0.0                   NaN   \n",
      "0                NaN                NaN                   3.0   \n",
      "\n",
      "   genset_polynom_0  genset_polynom_1  genset_polynom_2  genset_rated_power  \\\n",
      "0               NaN               NaN               NaN                 NaN   \n",
      "0          0.205845           0.96991          0.083244              2091.0   \n",
      "\n",
      "   genset_pmin  genset_pmax  fuel_cost  \n",
      "0          NaN          NaN        NaN  \n",
      "0          0.2          0.9        0.4  \n",
      "\n",
      "[2 rows x 23 columns]\n"
     ]
    }
   ],
   "source": [
    "path = sys.path[len(sys.path)-1]\n",
    "env = mg.MicrogridGenerator(path =path,nb_microgrid=2)\n",
    "env.generate_microgrid()"
   ]
  },
  {
   "cell_type": "code",
   "execution_count": 27,
   "metadata": {},
   "outputs": [],
   "source": [
    "import pandas as pd\n",
    "parameters = pd.DataFrame()"
   ]
  },
  {
   "cell_type": "code",
   "execution_count": 28,
   "metadata": {},
   "outputs": [
    {
     "name": "stdout",
     "output_type": "stream",
     "text": [
      "Empty DataFrame\n",
      "Columns: []\n",
      "Index: []\n"
     ]
    }
   ],
   "source": [
    "print(parameters)"
   ]
  },
  {
   "cell_type": "code",
   "execution_count": 29,
   "metadata": {},
   "outputs": [],
   "source": [
    "for i in range(env.nb_microgrids):\n",
    "        parameters = parameters.append(env.microgrids[i].parameters)"
   ]
  },
  {
   "cell_type": "code",
   "execution_count": 30,
   "metadata": {},
   "outputs": [
    {
     "data": {
      "text/html": [
       "<div>\n",
       "<style scoped>\n",
       "    .dataframe tbody tr th:only-of-type {\n",
       "        vertical-align: middle;\n",
       "    }\n",
       "\n",
       "    .dataframe tbody tr th {\n",
       "        vertical-align: top;\n",
       "    }\n",
       "\n",
       "    .dataframe thead th {\n",
       "        text-align: right;\n",
       "    }\n",
       "</style>\n",
       "<table border=\"1\" class=\"dataframe\">\n",
       "  <thead>\n",
       "    <tr style=\"text-align: right;\">\n",
       "      <th></th>\n",
       "      <th>load</th>\n",
       "      <th>cost_loss_load</th>\n",
       "      <th>PV_rated_power</th>\n",
       "      <th>battery_soc_0</th>\n",
       "      <th>battery_power_charge</th>\n",
       "      <th>battery_power_discharge</th>\n",
       "      <th>battery_capacity</th>\n",
       "      <th>battery_efficiency</th>\n",
       "      <th>battery_soc_min</th>\n",
       "      <th>battery_soc_max</th>\n",
       "      <th>...</th>\n",
       "      <th>grid_price_import</th>\n",
       "      <th>grid_price_export</th>\n",
       "      <th>genset_polynom_order</th>\n",
       "      <th>genset_polynom_0</th>\n",
       "      <th>genset_polynom_1</th>\n",
       "      <th>genset_polynom_2</th>\n",
       "      <th>genset_rated_power</th>\n",
       "      <th>genset_pmin</th>\n",
       "      <th>genset_pmax</th>\n",
       "      <th>fuel_cost</th>\n",
       "    </tr>\n",
       "  </thead>\n",
       "  <tbody>\n",
       "    <tr>\n",
       "      <th>0</th>\n",
       "      <td>7426634</td>\n",
       "      <td>10000</td>\n",
       "      <td>6683970.60</td>\n",
       "      <td>0.2</td>\n",
       "      <td>636.0</td>\n",
       "      <td>636.0</td>\n",
       "      <td>2544.0</td>\n",
       "      <td>0.9</td>\n",
       "      <td>0.2</td>\n",
       "      <td>1</td>\n",
       "      <td>...</td>\n",
       "      <td>0.3</td>\n",
       "      <td>0.0</td>\n",
       "      <td>NaN</td>\n",
       "      <td>NaN</td>\n",
       "      <td>NaN</td>\n",
       "      <td>NaN</td>\n",
       "      <td>NaN</td>\n",
       "      <td>NaN</td>\n",
       "      <td>NaN</td>\n",
       "      <td>NaN</td>\n",
       "    </tr>\n",
       "    <tr>\n",
       "      <th>0</th>\n",
       "      <td>8080212</td>\n",
       "      <td>10000</td>\n",
       "      <td>4282512.36</td>\n",
       "      <td>0.2</td>\n",
       "      <td>692.0</td>\n",
       "      <td>692.0</td>\n",
       "      <td>2768.0</td>\n",
       "      <td>0.9</td>\n",
       "      <td>0.2</td>\n",
       "      <td>1</td>\n",
       "      <td>...</td>\n",
       "      <td>NaN</td>\n",
       "      <td>NaN</td>\n",
       "      <td>3.0</td>\n",
       "      <td>0.205845</td>\n",
       "      <td>0.969910</td>\n",
       "      <td>0.083244</td>\n",
       "      <td>2091.0</td>\n",
       "      <td>0.2</td>\n",
       "      <td>0.9</td>\n",
       "      <td>0.4</td>\n",
       "    </tr>\n",
       "    <tr>\n",
       "      <th>0</th>\n",
       "      <td>6619066</td>\n",
       "      <td>10000</td>\n",
       "      <td>4699536.86</td>\n",
       "      <td>1.0</td>\n",
       "      <td>756.0</td>\n",
       "      <td>756.0</td>\n",
       "      <td>3023.0</td>\n",
       "      <td>0.9</td>\n",
       "      <td>0.2</td>\n",
       "      <td>1</td>\n",
       "      <td>...</td>\n",
       "      <td>0.3</td>\n",
       "      <td>0.0</td>\n",
       "      <td>3.0</td>\n",
       "      <td>2.921446</td>\n",
       "      <td>0.366362</td>\n",
       "      <td>0.045607</td>\n",
       "      <td>1430.0</td>\n",
       "      <td>0.2</td>\n",
       "      <td>0.9</td>\n",
       "      <td>0.4</td>\n",
       "    </tr>\n",
       "    <tr>\n",
       "      <th>0</th>\n",
       "      <td>9118680</td>\n",
       "      <td>10000</td>\n",
       "      <td>7294944.00</td>\n",
       "      <td>1.0</td>\n",
       "      <td>781.0</td>\n",
       "      <td>781.0</td>\n",
       "      <td>3123.0</td>\n",
       "      <td>0.9</td>\n",
       "      <td>0.2</td>\n",
       "      <td>1</td>\n",
       "      <td>...</td>\n",
       "      <td>NaN</td>\n",
       "      <td>NaN</td>\n",
       "      <td>3.0</td>\n",
       "      <td>1.705241</td>\n",
       "      <td>0.065052</td>\n",
       "      <td>0.094889</td>\n",
       "      <td>1969.0</td>\n",
       "      <td>0.2</td>\n",
       "      <td>0.9</td>\n",
       "      <td>0.4</td>\n",
       "    </tr>\n",
       "    <tr>\n",
       "      <th>0</th>\n",
       "      <td>2341689</td>\n",
       "      <td>10000</td>\n",
       "      <td>725923.59</td>\n",
       "      <td>1.0</td>\n",
       "      <td>268.0</td>\n",
       "      <td>268.0</td>\n",
       "      <td>1070.0</td>\n",
       "      <td>0.9</td>\n",
       "      <td>0.2</td>\n",
       "      <td>1</td>\n",
       "      <td>...</td>\n",
       "      <td>NaN</td>\n",
       "      <td>NaN</td>\n",
       "      <td>3.0</td>\n",
       "      <td>2.410255</td>\n",
       "      <td>0.683264</td>\n",
       "      <td>0.061000</td>\n",
       "      <td>1476.0</td>\n",
       "      <td>0.2</td>\n",
       "      <td>0.9</td>\n",
       "      <td>0.4</td>\n",
       "    </tr>\n",
       "  </tbody>\n",
       "</table>\n",
       "<p>5 rows × 23 columns</p>\n",
       "</div>"
      ],
      "text/plain": [
       "      load  cost_loss_load  PV_rated_power  battery_soc_0  \\\n",
       "0  7426634           10000      6683970.60            0.2   \n",
       "0  8080212           10000      4282512.36            0.2   \n",
       "0  6619066           10000      4699536.86            1.0   \n",
       "0  9118680           10000      7294944.00            1.0   \n",
       "0  2341689           10000       725923.59            1.0   \n",
       "\n",
       "   battery_power_charge  battery_power_discharge  battery_capacity  \\\n",
       "0                 636.0                    636.0            2544.0   \n",
       "0                 692.0                    692.0            2768.0   \n",
       "0                 756.0                    756.0            3023.0   \n",
       "0                 781.0                    781.0            3123.0   \n",
       "0                 268.0                    268.0            1070.0   \n",
       "\n",
       "   battery_efficiency  battery_soc_min  battery_soc_max  ...  \\\n",
       "0                 0.9              0.2                1  ...   \n",
       "0                 0.9              0.2                1  ...   \n",
       "0                 0.9              0.2                1  ...   \n",
       "0                 0.9              0.2                1  ...   \n",
       "0                 0.9              0.2                1  ...   \n",
       "\n",
       "   grid_price_import  grid_price_export  genset_polynom_order  \\\n",
       "0                0.3                0.0                   NaN   \n",
       "0                NaN                NaN                   3.0   \n",
       "0                0.3                0.0                   3.0   \n",
       "0                NaN                NaN                   3.0   \n",
       "0                NaN                NaN                   3.0   \n",
       "\n",
       "   genset_polynom_0  genset_polynom_1  genset_polynom_2  genset_rated_power  \\\n",
       "0               NaN               NaN               NaN                 NaN   \n",
       "0          0.205845          0.969910          0.083244              2091.0   \n",
       "0          2.921446          0.366362          0.045607              1430.0   \n",
       "0          1.705241          0.065052          0.094889              1969.0   \n",
       "0          2.410255          0.683264          0.061000              1476.0   \n",
       "\n",
       "   genset_pmin  genset_pmax  fuel_cost  \n",
       "0          NaN          NaN        NaN  \n",
       "0          0.2          0.9        0.4  \n",
       "0          0.2          0.9        0.4  \n",
       "0          0.2          0.9        0.4  \n",
       "0          0.2          0.9        0.4  \n",
       "\n",
       "[5 rows x 23 columns]"
      ]
     },
     "execution_count": 30,
     "metadata": {},
     "output_type": "execute_result"
    }
   ],
   "source": [
    "parameters"
   ]
  },
  {
   "cell_type": "code",
   "execution_count": 3,
   "metadata": {
    "scrolled": true
   },
   "outputs": [
    {
     "name": "stdout",
     "output_type": "stream",
     "text": [
      "Microgrid 0 architecture: {'PV': 1, 'battery': 1, 'genset': 0, 'grid': 1}\n",
      "Microgrid 1 architecture: {'PV': 1, 'battery': 1, 'genset': 1, 'grid': 0}\n"
     ]
    }
   ],
   "source": [
    "for i in range(env.nb_microgrids):\n",
    "    \n",
    "    print(\"Microgrid {} architecture: {}\".format(int(i), str(env.microgrids[i].architecture)))"
   ]
  },
  {
   "cell_type": "code",
   "execution_count": 9,
   "metadata": {},
   "outputs": [
    {
     "data": {
      "text/plain": [
       "pandas.core.frame.DataFrame"
      ]
     },
     "execution_count": 9,
     "metadata": {},
     "output_type": "execute_result"
    }
   ],
   "source": [
    "type(env.microgrids[0].load)\n"
   ]
  },
  {
   "cell_type": "code",
   "execution_count": null,
   "metadata": {},
   "outputs": [],
   "source": []
  },
  {
   "cell_type": "code",
   "execution_count": null,
   "metadata": {},
   "outputs": [],
   "source": [
    "print(env.microgrids[0].df)"
   ]
  },
  {
   "cell_type": "code",
   "execution_count": null,
   "metadata": {},
   "outputs": [],
   "source": [
    "env.microgrids[0].baseline_rule_based()"
   ]
  },
  {
   "cell_type": "code",
   "execution_count": null,
   "metadata": {},
   "outputs": [],
   "source": [
    "print(env.microgrids[0].architecture)\n",
    "env.microgrids[0].parameters\n"
   ]
  },
  {
   "cell_type": "code",
   "execution_count": null,
   "metadata": {},
   "outputs": [],
   "source": [
    "env.microgrids[0].df_status"
   ]
  },
  {
   "cell_type": "code",
   "execution_count": null,
   "metadata": {},
   "outputs": [],
   "source": [
    "battery_initial = env.microgrids[0].df_status.values[0][1]\n",
    "    \n",
    "\n",
    "for i in range(1000):\n",
    "    state = env.microgrids[0].df_status.iloc[-1]\n",
    "    load = env.microgrids[0].load.iloc[i].values[0]\n",
    "    pv = env.microgrids[0].pv.iloc[i].values[0]\n",
    "    net_demand = pv - load\n",
    "    control_dict = {'battery_charge': 0,\n",
    "                            'battery_discharge': 0,\n",
    "                            'genset': max(0, load-pv),\n",
    "                            'grid_import': 0,\n",
    "                            'grid_export':0,\n",
    "                            'load_not_matched': 0,\n",
    "                            'pv_consummed': min(pv, load),\n",
    "                            'pv_curtailed':min(load-pv, 0)}\n",
    "    \n",
    "    \n",
    "    mg_data = env.microgrids[0].run(control_dict, i)\n",
    "    env.microgrids[0].df_status[\"battery_soc\"].iloc[-1]"
   ]
  },
  {
   "cell_type": "code",
   "execution_count": null,
   "metadata": {},
   "outputs": [],
   "source": [
    "env.microgrids[0].load.iloc[0].values[0]"
   ]
  },
  {
   "cell_type": "code",
   "execution_count": null,
   "metadata": {},
   "outputs": [],
   "source": [
    "env.microgrids[0].df_actions.iloc[500:600,:].plot()"
   ]
  },
  {
   "cell_type": "code",
   "execution_count": null,
   "metadata": {},
   "outputs": [],
   "source": [
    "env.microgrids[0].df_status[\"battery_soc\"].iloc[-1]"
   ]
  },
  {
   "cell_type": "code",
   "execution_count": null,
   "metadata": {},
   "outputs": [],
   "source": [
    "load = env.microgrids[0].load.iloc[0].values[0]\n",
    "pv = env.microgrids[0].pv.iloc[0].values[0]\n",
    "control_dict = {'battery_charge': 0,\n",
    "                            'battery_discharge': max(0, min(capa_to_discharge, parameters['battery_power_discharge'].values[0],\n",
    "                                                load-pv)),\n",
    "                            'genset': max(0, load-pv-max(0, min(capa_to_discharge, parameters['battery_power_discharge'].values[0],\n",
    "                                                load-pv))),\n",
    "                            'grid_import': 0,\n",
    "                            'grid_export':0,\n",
    "                            'load_not_matched': 0,\n",
    "                            'pv_consummed': min(pv, load),\n",
    "                            'pv_curtailed':min(load-pv, 0)}"
   ]
  },
  {
   "cell_type": "code",
   "execution_count": null,
   "metadata": {},
   "outputs": [],
   "source": [
    " mg_data = env.microgrids[0].run(control_dict, 1)"
   ]
  },
  {
   "cell_type": "code",
   "execution_count": null,
   "metadata": {
    "scrolled": true
   },
   "outputs": [],
   "source": [
    "env.microgrids[0].load\n"
   ]
  },
  {
   "cell_type": "code",
   "execution_count": null,
   "metadata": {},
   "outputs": [],
   "source": [
    "def split_training_testing(self, proportion, entire_data):\n",
    "    multiplicateur = 24\n",
    "    training_size_prop = round((entire_data.shape[0]/multiplicateur)*proportion) #24 car je le mets en semaine \n",
    "    dt_training = entire_data[0:training_size_prop*multiplicateur].Load #si on le fait sur les loads\n",
    "    dt_testing = entire_data[training_size_prop*multiplicateur:].Load #si on le fait sur les loads\n",
    "    \n",
    "    return dt_training, dt_testing"
   ]
  }
 ],
 "metadata": {
  "kernelspec": {
   "display_name": "Python 3",
   "language": "python",
   "name": "python3"
  },
  "language_info": {
   "codemirror_mode": {
    "name": "ipython",
    "version": 3
   },
   "file_extension": ".py",
   "mimetype": "text/x-python",
   "name": "python",
   "nbconvert_exporter": "python",
   "pygments_lexer": "ipython3",
   "version": "3.7.6"
  }
 },
 "nbformat": 4,
 "nbformat_minor": 4
}
